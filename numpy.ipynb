{
 "cells": [
  {
   "cell_type": "code",
   "execution_count": 1,
   "id": "da65fa01-dd1a-452a-ba0a-dfb1100ecc22",
   "metadata": {},
   "outputs": [],
   "source": [
    "import numpy as np"
   ]
  },
  {
   "cell_type": "code",
   "execution_count": 2,
   "id": "f627ef8c-3263-400b-8953-e471a2b12de1",
   "metadata": {},
   "outputs": [
    {
     "name": "stdout",
     "output_type": "stream",
     "text": [
      "int32\n",
      "2\n",
      "(2, 2)\n"
     ]
    }
   ],
   "source": [
    "arr_one = np.array([[1, 2], [3, 4]])\n",
    "a=arr_one.dtype\n",
    "b=arr_one.ndim\n",
    "c=arr_one.shape\n",
    "print(a)\n",
    "print(b)\n",
    "print(c)"
   ]
  },
  {
   "cell_type": "code",
   "execution_count": 3,
   "id": "172e4b55-ead9-45d9-9ef7-e707012d4cd3",
   "metadata": {},
   "outputs": [
    {
     "data": {
      "text/plain": [
       "array([[ 5,  6,  7,  8],\n",
       "       [ 9, 10, 11, 12]])"
      ]
     },
     "execution_count": 3,
     "metadata": {},
     "output_type": "execute_result"
    }
   ],
   "source": [
    "arr2 = np.array([[1,2,3,4],\n",
    "                 [5,6,7,8],\n",
    "                 [9,10,11,12]])\n",
    "arr2[1:3]"
   ]
  },
  {
   "cell_type": "code",
   "execution_count": 4,
   "id": "4da01ccc-e81f-4a8a-8ed3-d8a123856831",
   "metadata": {},
   "outputs": [
    {
     "data": {
      "text/plain": [
       "array([[ 6,  7],\n",
       "       [10, 11]])"
      ]
     },
     "execution_count": 4,
     "metadata": {},
     "output_type": "execute_result"
    }
   ],
   "source": [
    "arr2[1:,1:3: ]"
   ]
  },
  {
   "cell_type": "code",
   "execution_count": 5,
   "id": "ff3fbec3-f53e-4bd6-b64a-6d835177f455",
   "metadata": {},
   "outputs": [
    {
     "data": {
      "text/plain": [
       "array([7, 8, 9])"
      ]
     },
     "execution_count": 5,
     "metadata": {},
     "output_type": "execute_result"
    }
   ],
   "source": [
    "arr_res = arr2[(arr2>6) & (arr2<10)]\n",
    "\n",
    "arr_res"
   ]
  },
  {
   "cell_type": "code",
   "execution_count": 6,
   "id": "5905e41d-0069-446e-a191-228ffb9961b9",
   "metadata": {},
   "outputs": [
    {
     "data": {
      "text/plain": [
       "array([1, 2, 3, 4])"
      ]
     },
     "execution_count": 6,
     "metadata": {},
     "output_type": "execute_result"
    }
   ],
   "source": [
    "a=np.array([1,2,3,4],dtype='int32')\n",
    "a\n"
   ]
  },
  {
   "cell_type": "code",
   "execution_count": 7,
   "id": "66354f2c-9a1d-4c13-bb0c-02b697f3ef6c",
   "metadata": {},
   "outputs": [
    {
     "data": {
      "text/plain": [
       "array([[12. ,  1. ,  2. ,  3. ,  4. ],\n",
       "       [ 1. ,  2. ,  3. ,  2. ,  2.4]])"
      ]
     },
     "execution_count": 7,
     "metadata": {},
     "output_type": "execute_result"
    }
   ],
   "source": [
    "b=np.array([[12,1,2,3,4],[1,2,3,2.0,2.4]])\n",
    "b"
   ]
  },
  {
   "cell_type": "code",
   "execution_count": 8,
   "id": "88ac9733-5867-4ea1-97fb-9e5862dffad0",
   "metadata": {},
   "outputs": [
    {
     "data": {
      "text/plain": [
       "1"
      ]
     },
     "execution_count": 8,
     "metadata": {},
     "output_type": "execute_result"
    }
   ],
   "source": [
    "a.ndim\n"
   ]
  },
  {
   "cell_type": "code",
   "execution_count": 9,
   "id": "32845850-2008-43db-a742-ae175aefa9d6",
   "metadata": {},
   "outputs": [
    {
     "data": {
      "text/plain": [
       "(4,)"
      ]
     },
     "execution_count": 9,
     "metadata": {},
     "output_type": "execute_result"
    }
   ],
   "source": [
    "a.shape"
   ]
  },
  {
   "cell_type": "code",
   "execution_count": 10,
   "id": "3c5f9bec-6f71-4864-906c-e2a17b76c4dd",
   "metadata": {},
   "outputs": [
    {
     "data": {
      "text/plain": [
       "dtype('int32')"
      ]
     },
     "execution_count": 10,
     "metadata": {},
     "output_type": "execute_result"
    }
   ],
   "source": [
    "a.dtype"
   ]
  },
  {
   "cell_type": "code",
   "execution_count": 11,
   "id": "4984d0f2-a2de-4b99-83ac-942a702dfc05",
   "metadata": {},
   "outputs": [
    {
     "data": {
      "text/plain": [
       "4"
      ]
     },
     "execution_count": 11,
     "metadata": {},
     "output_type": "execute_result"
    }
   ],
   "source": [
    "#get size\n",
    "a.itemsize"
   ]
  },
  {
   "cell_type": "code",
   "execution_count": 12,
   "id": "f7526ffc-3e94-40d7-9a17-00dec96bef63",
   "metadata": {},
   "outputs": [
    {
     "data": {
      "text/plain": [
       "16"
      ]
     },
     "execution_count": 12,
     "metadata": {},
     "output_type": "execute_result"
    }
   ],
   "source": [
    "a.nbytes"
   ]
  },
  {
   "cell_type": "code",
   "execution_count": 13,
   "id": "e4bce14d-8532-49cf-8b6d-7ea9096b2a71",
   "metadata": {},
   "outputs": [
    {
     "data": {
      "text/plain": [
       "2"
      ]
     },
     "execution_count": 13,
     "metadata": {},
     "output_type": "execute_result"
    }
   ],
   "source": [
    "#to get a specific element\n",
    "a[1]"
   ]
  },
  {
   "cell_type": "code",
   "execution_count": 14,
   "id": "d3fc2b21-c649-47f0-820d-03ff0706fa05",
   "metadata": {},
   "outputs": [
    {
     "data": {
      "text/plain": [
       "2.0"
      ]
     },
     "execution_count": 14,
     "metadata": {},
     "output_type": "execute_result"
    }
   ],
   "source": [
    "b[1,1]"
   ]
  },
  {
   "cell_type": "code",
   "execution_count": 15,
   "id": "1ddc9388-38d4-4841-b3f7-f21d9a57825d",
   "metadata": {},
   "outputs": [
    {
     "data": {
      "text/plain": [
       "1"
      ]
     },
     "execution_count": 15,
     "metadata": {},
     "output_type": "execute_result"
    }
   ],
   "source": [
    "a[0]"
   ]
  },
  {
   "cell_type": "code",
   "execution_count": 16,
   "id": "2af0b533-5b64-41a8-8590-e03d146cea61",
   "metadata": {},
   "outputs": [
    {
     "data": {
      "text/plain": [
       "12.0"
      ]
     },
     "execution_count": 16,
     "metadata": {},
     "output_type": "execute_result"
    }
   ],
   "source": [
    "b[0,0]"
   ]
  },
  {
   "cell_type": "code",
   "execution_count": 17,
   "id": "b66236b8-f580-4f84-9736-9c7abca0db7d",
   "metadata": {},
   "outputs": [
    {
     "data": {
      "text/plain": [
       "array([[0., 0., 0., 0.],\n",
       "       [0., 0., 0., 0.],\n",
       "       [0., 0., 0., 0.]])"
      ]
     },
     "execution_count": 17,
     "metadata": {},
     "output_type": "execute_result"
    }
   ],
   "source": [
    "#3,4 matrix with zero\n",
    "np.zeros((3,4))"
   ]
  },
  {
   "cell_type": "code",
   "execution_count": 18,
   "id": "87d89d84-a3c9-46e3-800d-5af5957cfdb2",
   "metadata": {},
   "outputs": [
    {
     "data": {
      "text/plain": [
       "array([[1., 1., 1., 1.],\n",
       "       [1., 1., 1., 1.],\n",
       "       [1., 1., 1., 1.]])"
      ]
     },
     "execution_count": 18,
     "metadata": {},
     "output_type": "execute_result"
    }
   ],
   "source": [
    "#3,4matrix with one\n",
    "np.ones((3,4))"
   ]
  },
  {
   "cell_type": "code",
   "execution_count": 19,
   "id": "50cfd4ba-bd48-4c32-bb14-fc9b813ac243",
   "metadata": {},
   "outputs": [
    {
     "data": {
      "text/plain": [
       "array([[99, 99, 99, 99],\n",
       "       [99, 99, 99, 99],\n",
       "       [99, 99, 99, 99]])"
      ]
     },
     "execution_count": 19,
     "metadata": {},
     "output_type": "execute_result"
    }
   ],
   "source": [
    "#np.full\n",
    "np.full((3,4),99)"
   ]
  },
  {
   "cell_type": "code",
   "execution_count": 20,
   "id": "076823fb-bf19-4561-8637-6f19205ebe0b",
   "metadata": {},
   "outputs": [
    {
     "data": {
      "text/plain": [
       "array([4, 4, 4, 4])"
      ]
     },
     "execution_count": 20,
     "metadata": {},
     "output_type": "execute_result"
    }
   ],
   "source": [
    "np.full_like(a,4)"
   ]
  },
  {
   "cell_type": "code",
   "execution_count": 21,
   "id": "b7687565-2eaa-4ee2-a03a-e3ce9d50cfcd",
   "metadata": {},
   "outputs": [
    {
     "data": {
      "text/plain": [
       "array([[0.29421905, 0.10672795],\n",
       "       [0.61775781, 0.50162338],\n",
       "       [0.04499352, 0.9171384 ],\n",
       "       [0.30618096, 0.8625633 ]])"
      ]
     },
     "execution_count": 21,
     "metadata": {},
     "output_type": "execute_result"
    }
   ],
   "source": [
    "np.random.rand(4,2)\n",
    "#to have a random matrix"
   ]
  },
  {
   "cell_type": "code",
   "execution_count": 22,
   "id": "5495ca58-d908-4c63-a1f8-4731826d9d51",
   "metadata": {},
   "outputs": [
    {
     "data": {
      "text/plain": [
       "array([[5, 7, 7],\n",
       "       [6, 5, 7],\n",
       "       [6, 7, 6]])"
      ]
     },
     "execution_count": 22,
     "metadata": {},
     "output_type": "execute_result"
    }
   ],
   "source": [
    "np.random.randint(4,8, size=(3,3))"
   ]
  },
  {
   "cell_type": "code",
   "execution_count": null,
   "id": "42f7b823-5ad5-4289-915e-45bcdcfcde51",
   "metadata": {},
   "outputs": [],
   "source": [
    "arr1=np.array"
   ]
  },
  {
   "cell_type": "code",
   "execution_count": null,
   "id": "a1c16a64-396b-4c4b-b9d7-8decd1329c46",
   "metadata": {},
   "outputs": [],
   "source": []
  }
 ],
 "metadata": {
  "kernelspec": {
   "display_name": "Python 3 (ipykernel)",
   "language": "python",
   "name": "python3"
  },
  "language_info": {
   "codemirror_mode": {
    "name": "ipython",
    "version": 3
   },
   "file_extension": ".py",
   "mimetype": "text/x-python",
   "name": "python",
   "nbconvert_exporter": "python",
   "pygments_lexer": "ipython3",
   "version": "3.12.4"
  }
 },
 "nbformat": 4,
 "nbformat_minor": 5
}
