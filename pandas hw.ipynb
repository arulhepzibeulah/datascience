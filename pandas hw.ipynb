{
 "cells": [
  {
   "cell_type": "code",
   "execution_count": 1,
   "id": "f9db7192-bca9-4255-9972-24019b2bf540",
   "metadata": {},
   "outputs": [],
   "source": [
    "import pandas as pd\n",
    "import numpy as np"
   ]
  },
  {
   "cell_type": "code",
   "execution_count": 2,
   "id": "fa0939fa-68a7-4812-8e59-92f04f2fed5a",
   "metadata": {},
   "outputs": [
    {
     "data": {
      "text/html": [
       "<div>\n",
       "<style scoped>\n",
       "    .dataframe tbody tr th:only-of-type {\n",
       "        vertical-align: middle;\n",
       "    }\n",
       "\n",
       "    .dataframe tbody tr th {\n",
       "        vertical-align: top;\n",
       "    }\n",
       "\n",
       "    .dataframe thead th {\n",
       "        text-align: right;\n",
       "    }\n",
       "</style>\n",
       "<table border=\"1\" class=\"dataframe\">\n",
       "  <thead>\n",
       "    <tr style=\"text-align: right;\">\n",
       "      <th></th>\n",
       "      <th>Name</th>\n",
       "      <th>Age</th>\n",
       "      <th>Gender</th>\n",
       "      <th>Salary</th>\n",
       "    </tr>\n",
       "  </thead>\n",
       "  <tbody>\n",
       "    <tr>\n",
       "      <th>0</th>\n",
       "      <td>Arul</td>\n",
       "      <td>20</td>\n",
       "      <td>Male</td>\n",
       "      <td>50000</td>\n",
       "    </tr>\n",
       "    <tr>\n",
       "      <th>1</th>\n",
       "      <td>Hepzi</td>\n",
       "      <td>10</td>\n",
       "      <td>Female</td>\n",
       "      <td>20000</td>\n",
       "    </tr>\n",
       "    <tr>\n",
       "      <th>2</th>\n",
       "      <td>Beulah</td>\n",
       "      <td>30</td>\n",
       "      <td>Female</td>\n",
       "      <td>40000</td>\n",
       "    </tr>\n",
       "    <tr>\n",
       "      <th>3</th>\n",
       "      <td>Ann</td>\n",
       "      <td>40</td>\n",
       "      <td>Female</td>\n",
       "      <td>30000</td>\n",
       "    </tr>\n",
       "    <tr>\n",
       "      <th>4</th>\n",
       "      <td>Rezia</td>\n",
       "      <td>50</td>\n",
       "      <td>Female</td>\n",
       "      <td>50000</td>\n",
       "    </tr>\n",
       "    <tr>\n",
       "      <th>5</th>\n",
       "      <td>Bobby</td>\n",
       "      <td>60</td>\n",
       "      <td>Male</td>\n",
       "      <td>60000</td>\n",
       "    </tr>\n",
       "    <tr>\n",
       "      <th>6</th>\n",
       "      <td>Abraham</td>\n",
       "      <td>10</td>\n",
       "      <td>Male</td>\n",
       "      <td>50000</td>\n",
       "    </tr>\n",
       "  </tbody>\n",
       "</table>\n",
       "</div>"
      ],
      "text/plain": [
       "      Name  Age  Gender  Salary\n",
       "0     Arul   20    Male   50000\n",
       "1    Hepzi   10  Female   20000\n",
       "2   Beulah   30  Female   40000\n",
       "3      Ann   40  Female   30000\n",
       "4    Rezia   50  Female   50000\n",
       "5    Bobby   60    Male   60000\n",
       "6  Abraham   10    Male   50000"
      ]
     },
     "execution_count": 2,
     "metadata": {},
     "output_type": "execute_result"
    }
   ],
   "source": [
    "data={\n",
    "    'Name':[\"Arul\",\"Hepzi\",\"Beulah\",\"Ann\",\"Rezia\",\"Bobby\",\"Abraham\"],\n",
    "'Age':[20,10,30,40,50,60,10],\n",
    "'Gender':['Male','Female','Female','Female','Female','Male','Male'],\n",
    "'Salary':[50000,20000,40000,30000,50000,60000,50000]}\n",
    "\n",
    "df=pd.DataFrame(data)\n",
    "df\n",
    "          "
   ]
  },
  {
   "cell_type": "code",
   "execution_count": 3,
   "id": "86735917-e935-4e10-b02d-041b1be26b40",
   "metadata": {},
   "outputs": [
    {
     "name": "stdout",
     "output_type": "stream",
     "text": [
      "    Name  Age  Gender  Salary\n",
      "3    Ann   40  Female   30000\n",
      "4  Rezia   50  Female   50000\n",
      "5  Bobby   60    Male   60000\n"
     ]
    }
   ],
   "source": [
    "####'Name' and 'Age' columns for individuals with age greater than 30.\n",
    "subset=df[df['Age']> 30]\n",
    "print(subset)\n"
   ]
  },
  {
   "cell_type": "code",
   "execution_count": 4,
   "id": "e6e67723-9f9c-4306-ad14-420e49715143",
   "metadata": {},
   "outputs": [
    {
     "data": {
      "text/html": [
       "<div>\n",
       "<style scoped>\n",
       "    .dataframe tbody tr th:only-of-type {\n",
       "        vertical-align: middle;\n",
       "    }\n",
       "\n",
       "    .dataframe tbody tr th {\n",
       "        vertical-align: top;\n",
       "    }\n",
       "\n",
       "    .dataframe thead th {\n",
       "        text-align: right;\n",
       "    }\n",
       "</style>\n",
       "<table border=\"1\" class=\"dataframe\">\n",
       "  <thead>\n",
       "    <tr style=\"text-align: right;\">\n",
       "      <th></th>\n",
       "      <th>Name</th>\n",
       "      <th>Age</th>\n",
       "      <th>Gender</th>\n",
       "      <th>Salary</th>\n",
       "    </tr>\n",
       "  </thead>\n",
       "  <tbody>\n",
       "    <tr>\n",
       "      <th>0</th>\n",
       "      <td>Arul</td>\n",
       "      <td>20</td>\n",
       "      <td>Male</td>\n",
       "      <td>50000</td>\n",
       "    </tr>\n",
       "    <tr>\n",
       "      <th>5</th>\n",
       "      <td>Bobby</td>\n",
       "      <td>60</td>\n",
       "      <td>Male</td>\n",
       "      <td>60000</td>\n",
       "    </tr>\n",
       "    <tr>\n",
       "      <th>6</th>\n",
       "      <td>Abraham</td>\n",
       "      <td>10</td>\n",
       "      <td>Male</td>\n",
       "      <td>50000</td>\n",
       "    </tr>\n",
       "  </tbody>\n",
       "</table>\n",
       "</div>"
      ],
      "text/plain": [
       "      Name  Age Gender  Salary\n",
       "0     Arul   20   Male   50000\n",
       "5    Bobby   60   Male   60000\n",
       "6  Abraham   10   Male   50000"
      ]
     },
     "execution_count": 4,
     "metadata": {},
     "output_type": "execute_result"
    }
   ],
   "source": [
    "######Filter the rows where 'Gender' is 'Male' and 'Salary' is greater than 5000\n",
    "\n",
    "subset1=df[(df['Gender']=='Male') & (df['Salary']>5000)]\n",
    "subset1"
   ]
  },
  {
   "cell_type": "code",
   "execution_count": 5,
   "id": "30dc1095-f037-40b8-a32d-71854fc96547",
   "metadata": {},
   "outputs": [],
   "source": [
    "####Extract the rows where 'Name' starts with the letter 'S'.\n",
    "subset2=df[df['Name'].str.startswith('S')]\n"
   ]
  },
  {
   "cell_type": "code",
   "execution_count": 6,
   "id": "123c11a7-979d-4ba9-a14c-82b29124d86d",
   "metadata": {},
   "outputs": [],
   "source": [
    "data1 = {\n",
    "    'Product': ['Electronics', 'Furniture', 'Electronics', 'Clothing', 'Furniture', 'Electronics', 'Clothing'],\n",
    "    'Region': ['North', 'South', 'East', 'West', 'North', 'South', 'North'],\n",
    "    'Sales': [1500, 700, 1200, 500, 800, 950, 2000]\n",
    "}\n"
   ]
  },
  {
   "cell_type": "code",
   "execution_count": 7,
   "id": "90ec9f9a-9f47-4ab5-bcc5-e46b2ece980a",
   "metadata": {},
   "outputs": [
    {
     "data": {
      "text/html": [
       "<div>\n",
       "<style scoped>\n",
       "    .dataframe tbody tr th:only-of-type {\n",
       "        vertical-align: middle;\n",
       "    }\n",
       "\n",
       "    .dataframe tbody tr th {\n",
       "        vertical-align: top;\n",
       "    }\n",
       "\n",
       "    .dataframe thead th {\n",
       "        text-align: right;\n",
       "    }\n",
       "</style>\n",
       "<table border=\"1\" class=\"dataframe\">\n",
       "  <thead>\n",
       "    <tr style=\"text-align: right;\">\n",
       "      <th></th>\n",
       "      <th>Product</th>\n",
       "      <th>Region</th>\n",
       "      <th>Sales</th>\n",
       "    </tr>\n",
       "  </thead>\n",
       "  <tbody>\n",
       "    <tr>\n",
       "      <th>0</th>\n",
       "      <td>Electronics</td>\n",
       "      <td>North</td>\n",
       "      <td>1500</td>\n",
       "    </tr>\n",
       "    <tr>\n",
       "      <th>1</th>\n",
       "      <td>Furniture</td>\n",
       "      <td>South</td>\n",
       "      <td>700</td>\n",
       "    </tr>\n",
       "    <tr>\n",
       "      <th>2</th>\n",
       "      <td>Electronics</td>\n",
       "      <td>East</td>\n",
       "      <td>1200</td>\n",
       "    </tr>\n",
       "    <tr>\n",
       "      <th>3</th>\n",
       "      <td>Clothing</td>\n",
       "      <td>West</td>\n",
       "      <td>500</td>\n",
       "    </tr>\n",
       "    <tr>\n",
       "      <th>4</th>\n",
       "      <td>Furniture</td>\n",
       "      <td>North</td>\n",
       "      <td>800</td>\n",
       "    </tr>\n",
       "    <tr>\n",
       "      <th>5</th>\n",
       "      <td>Electronics</td>\n",
       "      <td>South</td>\n",
       "      <td>950</td>\n",
       "    </tr>\n",
       "    <tr>\n",
       "      <th>6</th>\n",
       "      <td>Clothing</td>\n",
       "      <td>North</td>\n",
       "      <td>2000</td>\n",
       "    </tr>\n",
       "  </tbody>\n",
       "</table>\n",
       "</div>"
      ],
      "text/plain": [
       "       Product Region  Sales\n",
       "0  Electronics  North   1500\n",
       "1    Furniture  South    700\n",
       "2  Electronics   East   1200\n",
       "3     Clothing   West    500\n",
       "4    Furniture  North    800\n",
       "5  Electronics  South    950\n",
       "6     Clothing  North   2000"
      ]
     },
     "execution_count": 7,
     "metadata": {},
     "output_type": "execute_result"
    }
   ],
   "source": [
    "df1=pd.DataFrame(data1)\n",
    "df1"
   ]
  },
  {
   "cell_type": "code",
   "execution_count": 8,
   "id": "7679f773-bf83-454e-8506-afb61fede8b4",
   "metadata": {},
   "outputs": [
    {
     "name": "stdout",
     "output_type": "stream",
     "text": [
      "       Product Region  Sales\n",
      "0  Electronics  North   1500\n",
      "2  Electronics   East   1200\n",
      "5  Electronics  South    950\n"
     ]
    }
   ],
   "source": [
    "#Retrieve the sales data for the 'Electronics' product category.\n",
    "electronics = df1[df1['Product'] == 'Electronics']\n",
    "print(electronics)\n"
   ]
  },
  {
   "cell_type": "code",
   "execution_count": 9,
   "id": "c4276a1c-223b-426d-9da7-945973d3fe3b",
   "metadata": {},
   "outputs": [
    {
     "data": {
      "text/html": [
       "<div>\n",
       "<style scoped>\n",
       "    .dataframe tbody tr th:only-of-type {\n",
       "        vertical-align: middle;\n",
       "    }\n",
       "\n",
       "    .dataframe tbody tr th {\n",
       "        vertical-align: top;\n",
       "    }\n",
       "\n",
       "    .dataframe thead th {\n",
       "        text-align: right;\n",
       "    }\n",
       "</style>\n",
       "<table border=\"1\" class=\"dataframe\">\n",
       "  <thead>\n",
       "    <tr style=\"text-align: right;\">\n",
       "      <th></th>\n",
       "      <th>Product</th>\n",
       "      <th>Region</th>\n",
       "      <th>Sales</th>\n",
       "    </tr>\n",
       "  </thead>\n",
       "  <tbody>\n",
       "    <tr>\n",
       "      <th>4</th>\n",
       "      <td>Furniture</td>\n",
       "      <td>North</td>\n",
       "      <td>800</td>\n",
       "    </tr>\n",
       "  </tbody>\n",
       "</table>\n",
       "</div>"
      ],
      "text/plain": [
       "     Product Region  Sales\n",
       "4  Furniture  North    800"
      ]
     },
     "execution_count": 9,
     "metadata": {},
     "output_type": "execute_result"
    }
   ],
   "source": [
    "\n",
    " #Filter the data for the 'North' region and where 'Sales' are less than 1000.\n",
    "sales=df1[(df1['Region']=='North')&(df1['Sales']<1000)]\n",
    "sales"
   ]
  },
  {
   "cell_type": "code",
   "execution_count": 10,
   "id": "a60289ab-eb01-42a0-b1c5-161a3844af30",
   "metadata": {},
   "outputs": [
    {
     "data": {
      "text/html": [
       "<div>\n",
       "<style scoped>\n",
       "    .dataframe tbody tr th:only-of-type {\n",
       "        vertical-align: middle;\n",
       "    }\n",
       "\n",
       "    .dataframe tbody tr th {\n",
       "        vertical-align: top;\n",
       "    }\n",
       "\n",
       "    .dataframe thead th {\n",
       "        text-align: right;\n",
       "    }\n",
       "</style>\n",
       "<table border=\"1\" class=\"dataframe\">\n",
       "  <thead>\n",
       "    <tr style=\"text-align: right;\">\n",
       "      <th></th>\n",
       "      <th>Name</th>\n",
       "      <th>Age</th>\n",
       "      <th>Gender</th>\n",
       "      <th>Salary</th>\n",
       "    </tr>\n",
       "  </thead>\n",
       "  <tbody>\n",
       "    <tr>\n",
       "      <th>0</th>\n",
       "      <td>Arul</td>\n",
       "      <td>20</td>\n",
       "      <td>Male</td>\n",
       "      <td>50000</td>\n",
       "    </tr>\n",
       "    <tr>\n",
       "      <th>1</th>\n",
       "      <td>Hepzi</td>\n",
       "      <td>10</td>\n",
       "      <td>Female</td>\n",
       "      <td>20000</td>\n",
       "    </tr>\n",
       "    <tr>\n",
       "      <th>2</th>\n",
       "      <td>Beulah</td>\n",
       "      <td>30</td>\n",
       "      <td>Female</td>\n",
       "      <td>40000</td>\n",
       "    </tr>\n",
       "    <tr>\n",
       "      <th>3</th>\n",
       "      <td>Ann</td>\n",
       "      <td>40</td>\n",
       "      <td>Female</td>\n",
       "      <td>30000</td>\n",
       "    </tr>\n",
       "    <tr>\n",
       "      <th>4</th>\n",
       "      <td>Rezia</td>\n",
       "      <td>50</td>\n",
       "      <td>Female</td>\n",
       "      <td>50000</td>\n",
       "    </tr>\n",
       "    <tr>\n",
       "      <th>5</th>\n",
       "      <td>Bobby</td>\n",
       "      <td>60</td>\n",
       "      <td>Male</td>\n",
       "      <td>60000</td>\n",
       "    </tr>\n",
       "    <tr>\n",
       "      <th>6</th>\n",
       "      <td>Abraham</td>\n",
       "      <td>10</td>\n",
       "      <td>Male</td>\n",
       "      <td>50000</td>\n",
       "    </tr>\n",
       "  </tbody>\n",
       "</table>\n",
       "</div>"
      ],
      "text/plain": [
       "      Name  Age  Gender  Salary\n",
       "0     Arul   20    Male   50000\n",
       "1    Hepzi   10  Female   20000\n",
       "2   Beulah   30  Female   40000\n",
       "3      Ann   40  Female   30000\n",
       "4    Rezia   50  Female   50000\n",
       "5    Bobby   60    Male   60000\n",
       "6  Abraham   10    Male   50000"
      ]
     },
     "execution_count": 10,
     "metadata": {},
     "output_type": "execute_result"
    }
   ],
   "source": [
    "##Select the rows where 'Sales' are above the mean sales value.\n",
    "df"
   ]
  },
  {
   "cell_type": "code",
   "execution_count": 11,
   "id": "66043c2c-f887-49f9-8d97-fef61b8be44d",
   "metadata": {},
   "outputs": [],
   "source": [
    "students={\n",
    "    'Student_ID':[1,2,3,4,5,6,7],\n",
    "'Name':['Alan','wesley','John','Peter','Rezia','Kelan','Joel'],\n",
    "'Subject':['history','English','Math','Tamil','Accounts','English','English'],\n",
    "    'Grade':['A','B','C','A','A','C','D']}"
   ]
  },
  {
   "cell_type": "code",
   "execution_count": 12,
   "id": "7a7070de-4436-4d0d-8187-d923612f1959",
   "metadata": {},
   "outputs": [
    {
     "data": {
      "text/plain": [
       "{'Student_ID': [1, 2, 3, 4, 5, 6, 7],\n",
       " 'Name': ['Alan', 'wesley', 'John', 'Peter', 'Rezia', 'Kelan', 'Joel'],\n",
       " 'Subject': ['history',\n",
       "  'English',\n",
       "  'Math',\n",
       "  'Tamil',\n",
       "  'Accounts',\n",
       "  'English',\n",
       "  'English'],\n",
       " 'Grade': ['A', 'B', 'C', 'A', 'A', 'C', 'D']}"
      ]
     },
     "execution_count": 12,
     "metadata": {},
     "output_type": "execute_result"
    }
   ],
   "source": [
    "students"
   ]
  },
  {
   "cell_type": "code",
   "execution_count": 13,
   "id": "d1654132-e487-4ad5-9f89-0928afcb8607",
   "metadata": {},
   "outputs": [
    {
     "data": {
      "text/html": [
       "<div>\n",
       "<style scoped>\n",
       "    .dataframe tbody tr th:only-of-type {\n",
       "        vertical-align: middle;\n",
       "    }\n",
       "\n",
       "    .dataframe tbody tr th {\n",
       "        vertical-align: top;\n",
       "    }\n",
       "\n",
       "    .dataframe thead th {\n",
       "        text-align: right;\n",
       "    }\n",
       "</style>\n",
       "<table border=\"1\" class=\"dataframe\">\n",
       "  <thead>\n",
       "    <tr style=\"text-align: right;\">\n",
       "      <th></th>\n",
       "      <th>Student_ID</th>\n",
       "      <th>Name</th>\n",
       "      <th>Subject</th>\n",
       "      <th>Grade</th>\n",
       "    </tr>\n",
       "  </thead>\n",
       "  <tbody>\n",
       "    <tr>\n",
       "      <th>0</th>\n",
       "      <td>1</td>\n",
       "      <td>Alan</td>\n",
       "      <td>history</td>\n",
       "      <td>A</td>\n",
       "    </tr>\n",
       "    <tr>\n",
       "      <th>1</th>\n",
       "      <td>2</td>\n",
       "      <td>wesley</td>\n",
       "      <td>English</td>\n",
       "      <td>B</td>\n",
       "    </tr>\n",
       "    <tr>\n",
       "      <th>2</th>\n",
       "      <td>3</td>\n",
       "      <td>John</td>\n",
       "      <td>Math</td>\n",
       "      <td>C</td>\n",
       "    </tr>\n",
       "    <tr>\n",
       "      <th>3</th>\n",
       "      <td>4</td>\n",
       "      <td>Peter</td>\n",
       "      <td>Tamil</td>\n",
       "      <td>A</td>\n",
       "    </tr>\n",
       "    <tr>\n",
       "      <th>4</th>\n",
       "      <td>5</td>\n",
       "      <td>Rezia</td>\n",
       "      <td>Accounts</td>\n",
       "      <td>A</td>\n",
       "    </tr>\n",
       "    <tr>\n",
       "      <th>5</th>\n",
       "      <td>6</td>\n",
       "      <td>Kelan</td>\n",
       "      <td>English</td>\n",
       "      <td>C</td>\n",
       "    </tr>\n",
       "    <tr>\n",
       "      <th>6</th>\n",
       "      <td>7</td>\n",
       "      <td>Joel</td>\n",
       "      <td>English</td>\n",
       "      <td>D</td>\n",
       "    </tr>\n",
       "  </tbody>\n",
       "</table>\n",
       "</div>"
      ],
      "text/plain": [
       "   Student_ID    Name   Subject Grade\n",
       "0           1    Alan   history     A\n",
       "1           2  wesley   English     B\n",
       "2           3    John      Math     C\n",
       "3           4   Peter     Tamil     A\n",
       "4           5   Rezia  Accounts     A\n",
       "5           6   Kelan   English     C\n",
       "6           7    Joel   English     D"
      ]
     },
     "execution_count": 13,
     "metadata": {},
     "output_type": "execute_result"
    }
   ],
   "source": [
    "df2=pd.DataFrame(students)\n",
    "df2"
   ]
  },
  {
   "cell_type": "code",
   "execution_count": 14,
   "id": "e6f4e85a-e599-4368-a46e-3f419bfe3e63",
   "metadata": {},
   "outputs": [
    {
     "data": {
      "text/html": [
       "<div>\n",
       "<style scoped>\n",
       "    .dataframe tbody tr th:only-of-type {\n",
       "        vertical-align: middle;\n",
       "    }\n",
       "\n",
       "    .dataframe tbody tr th {\n",
       "        vertical-align: top;\n",
       "    }\n",
       "\n",
       "    .dataframe thead th {\n",
       "        text-align: right;\n",
       "    }\n",
       "</style>\n",
       "<table border=\"1\" class=\"dataframe\">\n",
       "  <thead>\n",
       "    <tr style=\"text-align: right;\">\n",
       "      <th></th>\n",
       "      <th>Student_ID</th>\n",
       "      <th>Name</th>\n",
       "      <th>Subject</th>\n",
       "      <th>Grade</th>\n",
       "    </tr>\n",
       "  </thead>\n",
       "  <tbody>\n",
       "  </tbody>\n",
       "</table>\n",
       "</div>"
      ],
      "text/plain": [
       "Empty DataFrame\n",
       "Columns: [Student_ID, Name, Subject, Grade]\n",
       "Index: []"
      ]
     },
     "execution_count": 14,
     "metadata": {},
     "output_type": "execute_result"
    }
   ],
   "source": [
    "####Extract the information for students with a 'Grade' of 'A' in 'Math'.\n",
    "\n",
    "sub_student=df2[(df2['Grade']=='A')&(df2['Subject']=='Math')]\n",
    "sub_student"
   ]
  },
  {
   "cell_type": "code",
   "execution_count": 32,
   "id": "a314c658-960d-4015-b5d5-d5c5d7fa0f31",
   "metadata": {},
   "outputs": [
    {
     "data": {
      "text/plain": [
       "{'car': ['bmw'], 'model': [1975]}"
      ]
     },
     "execution_count": 32,
     "metadata": {},
     "output_type": "execute_result"
    }
   ],
   "source": [
    "data2={\n",
    "    'car':['bmw'],\n",
    "    'model':[1975]}\n",
    "\n",
    "car=pd.DataFrame"
   ]
  },
  {
   "cell_type": "code",
   "execution_count": null,
   "id": "b6fdbf9c-26dd-46cd-860f-9e67d10e5e6e",
   "metadata": {},
   "outputs": [],
   "source": []
  },
  {
   "cell_type": "code",
   "execution_count": null,
   "id": "9affbe12-b881-4187-8bbc-1974220c4e9c",
   "metadata": {},
   "outputs": [],
   "source": []
  }
 ],
 "metadata": {
  "kernelspec": {
   "display_name": "Python 3 (ipykernel)",
   "language": "python",
   "name": "python3"
  },
  "language_info": {
   "codemirror_mode": {
    "name": "ipython",
    "version": 3
   },
   "file_extension": ".py",
   "mimetype": "text/x-python",
   "name": "python",
   "nbconvert_exporter": "python",
   "pygments_lexer": "ipython3",
   "version": "3.12.4"
  }
 },
 "nbformat": 4,
 "nbformat_minor": 5
}
